{
 "cells": [
  {
   "cell_type": "markdown",
   "metadata": {},
   "source": [
    "### ========== Tipe Data Dasar =========="
   ]
  },
  {
   "cell_type": "markdown",
   "metadata": {},
   "source": [
    "#### a. Null"
   ]
  },
  {
   "cell_type": "code",
   "execution_count": 9,
   "metadata": {},
   "outputs": [
    {
     "name": "stdout",
     "output_type": "stream",
     "text": [
      "Data : None -- datatype : <class 'NoneType'>\n"
     ]
    }
   ],
   "source": [
    "# Sebuah data berupa nilai kosong (null) --> None\n",
    "data_1 = None\n",
    "print(\"Data :\", data_1, \"-- datatype :\", type(data_1))"
   ]
  },
  {
   "cell_type": "markdown",
   "metadata": {},
   "source": [
    "#### b. Boolean"
   ]
  },
  {
   "cell_type": "code",
   "execution_count": 10,
   "metadata": {},
   "outputs": [
    {
     "name": "stdout",
     "output_type": "stream",
     "text": [
      "Data : True -- datatype : <class 'bool'>\n",
      "Data : False -- datatype : <class 'bool'>\n"
     ]
    }
   ],
   "source": [
    "# Sebuah data berupa nilai logika True and Flase --> bool\n",
    "logic_1 = True\n",
    "logic_2 = False\n",
    "print(\"Data :\", logic_1, \"-- datatype :\", type(logic_1))\n",
    "print(\"Data :\", logic_2, \"-- datatype :\", type(logic_2))"
   ]
  },
  {
   "cell_type": "markdown",
   "metadata": {},
   "source": [
    "#### c. Numeric"
   ]
  },
  {
   "cell_type": "code",
   "execution_count": 11,
   "metadata": {},
   "outputs": [
    {
     "name": "stdout",
     "output_type": "stream",
     "text": [
      "Data : 2022 -- datatype : <class 'int'>\n",
      "Data : 3.14 -- datatype : <class 'float'>\n"
     ]
    }
   ],
   "source": [
    "# Sebuah data berupa angka, terbagi menjadi 2 yaitu\n",
    "        # Integer berupa bilangan bulat --> int\n",
    "bilangan_bulat = 2022\n",
    "print(\"Data :\", bilangan_bulat, \"-- datatype :\", type(bilangan_bulat))\n",
    "\n",
    "        # Float berupa bilangan rill/koma --> float\n",
    "bilangan_koma = 3.14\n",
    "print(\"Data :\", bilangan_koma, \"-- datatype :\", type(bilangan_koma))"
   ]
  },
  {
   "cell_type": "markdown",
   "metadata": {},
   "source": [
    "#### d. Text/String"
   ]
  },
  {
   "cell_type": "code",
   "execution_count": 12,
   "metadata": {},
   "outputs": [
    {
     "name": "stdout",
     "output_type": "stream",
     "text": [
      "Data : Ini adalah data text -- datatype : <class 'str'>\n",
      "Data : Belajar Fundamental Python -- datatype : <class 'str'>\n"
     ]
    }
   ],
   "source": [
    "# Sebuah data berupa teks atau sekumpulan karakter --> str\n",
    "    # Dalam penulisannya menggunakan tanda \" \" atau ' '\n",
    "kalimat1 = \"Ini adalah data text\"\n",
    "kalimat2 = 'Belajar Fundamental Python'\n",
    "print(\"Data :\", kalimat1, \"-- datatype :\", type(kalimat1))\n",
    "print(\"Data :\", kalimat2, \"-- datatype :\", type(kalimat2))"
   ]
  },
  {
   "cell_type": "markdown",
   "metadata": {},
   "source": [
    "#### e. Kompleks"
   ]
  },
  {
   "cell_type": "code",
   "execution_count": 13,
   "metadata": {},
   "outputs": [
    {
     "name": "stdout",
     "output_type": "stream",
     "text": [
      "Data : 5j -- datatype : <class 'complex'>\n",
      "Data : (3+9j) -- datatype : <class 'complex'>\n"
     ]
    }
   ],
   "source": [
    "# Sebuah data yang bersifat kompleks berupa gabungan teks dan angka\n",
    "    # Dalam penulisannya wajib angka terlebih dahulu diikuti dengan teks\n",
    "    # Namun ini sangat jarang digunakan\n",
    "contoh1 = 5j\n",
    "contoh2 = complex(3,9)\n",
    "print(\"Data :\", contoh1, \"-- datatype :\", type(contoh1))\n",
    "print(\"Data :\", contoh2, \"-- datatype :\", type(contoh2))"
   ]
  }
 ],
 "metadata": {
  "kernelspec": {
   "display_name": "Python 3.10.7 64-bit",
   "language": "python",
   "name": "python3"
  },
  "language_info": {
   "codemirror_mode": {
    "name": "ipython",
    "version": 3
   },
   "file_extension": ".py",
   "mimetype": "text/x-python",
   "name": "python",
   "nbconvert_exporter": "python",
   "pygments_lexer": "ipython3",
   "version": "3.10.7"
  },
  "orig_nbformat": 4,
  "vscode": {
   "interpreter": {
    "hash": "d3e10ef16274dd72e574b8fa73b58450b957d8421a2901baded3cca26fcf5dda"
   }
  }
 },
 "nbformat": 4,
 "nbformat_minor": 2
}
