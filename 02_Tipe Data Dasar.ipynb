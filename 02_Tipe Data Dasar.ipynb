{
 "cells": [
  {
   "cell_type": "code",
   "execution_count": 29,
   "metadata": {},
   "outputs": [
    {
     "name": "stdout",
     "output_type": "stream",
     "text": [
      "========== 1. Tipe Data Dasar ==========\n",
      "Data : None -- datatype : <class 'NoneType'>\n",
      "Data : True -- datatype : <class 'bool'>\n",
      "Data : False -- datatype : <class 'bool'>\n",
      "Data : 2022 -- datatype : <class 'int'>\n",
      "Data : 3.14 -- datatype : <class 'float'>\n",
      "Data : Ini adalah data text -- datatype : <class 'str'>\n",
      "Data : Belajar Fundamental Python -- datatype : <class 'str'>\n",
      "Data : 5j -- datatype : <class 'complex'>\n",
      "Data : (3+9j) -- datatype : <class 'complex'>\n",
      "\n",
      "========== 2. Tipe Data Sequence ==========\n",
      "Ini adalah contoh tipe data List : [5, 65, 2, 74]\n"
     ]
    }
   ],
   "source": [
    "# Tipe - tipe data pada Python\n",
    "\n",
    "# ========== Tipe Data Dasar ==========\n",
    "print(\"========== Tipe Data Dasar ==========\")\n",
    "\n",
    "    # a. Null adalah sebuah data berupa nilai kosong (null) --> None\n",
    "data_1 = None\n",
    "print(\"Data :\", data_1, \"-- datatype :\", type(data_1))\n",
    "\n",
    "    # b. Boolean adalah sebuah data berupa nilai logika True and Flase --> bool\n",
    "logic_1 = True\n",
    "logic_2 = False\n",
    "print(\"Data :\", logic_1, \"-- datatype :\", type(logic_1))\n",
    "print(\"Data :\", logic_2, \"-- datatype :\", type(logic_2))\n",
    "\n",
    "    # c. Numeric adalah sebuah data berupa angka, terbagi menjadi 2 yaitu\n",
    "        # Integer berupa bilangan bulat --> int\n",
    "bilangan_bulat = 2022\n",
    "print(\"Data :\", bilangan_bulat, \"-- datatype :\", type(bilangan_bulat))\n",
    "\n",
    "        # Float berupa bilangan rill/koma --> float\n",
    "bilangan_koma = 3.14\n",
    "print(\"Data :\", bilangan_koma, \"-- datatype :\", type(bilangan_koma))\n",
    "\n",
    "    # d. Text/String adalah sebuah data berupa teks atau sekumpulan karakter --> str\n",
    "    # Dalam penulisannya menggunakan tanda \" \" atau ' '\n",
    "kalimat1 = \"Ini adalah data text\"\n",
    "kalimat2 = 'Belajar Fundamental Python'\n",
    "print(\"Data :\", kalimat1, \"-- datatype :\", type(kalimat1))\n",
    "print(\"Data :\", kalimat2, \"-- datatype :\", type(kalimat2))\n",
    "\n",
    "    # e. Kompleks adalah sebuah data yang bersifat kompleks berupa gabungan teks dan angka\n",
    "    # Dalam penulisannya wajib angka terlebih dahulu diikuti dengan teks\n",
    "    # Namun ini sangat jarang digunakan\n",
    "contoh1 = 5j\n",
    "contoh2 = complex(3,9)\n",
    "print(\"Data :\", contoh1, \"-- datatype :\", type(contoh1))\n",
    "print(\"Data :\", contoh2, \"-- datatype :\", type(contoh2))\n",
    "\n",
    "# Ada beberapa tipe data lainnya yaitu, Sequence, Set dan Mapping"
   ]
  }
 ],
 "metadata": {
  "kernelspec": {
   "display_name": "Python 3.10.7 64-bit",
   "language": "python",
   "name": "python3"
  },
  "language_info": {
   "codemirror_mode": {
    "name": "ipython",
    "version": 3
   },
   "file_extension": ".py",
   "mimetype": "text/x-python",
   "name": "python",
   "nbconvert_exporter": "python",
   "pygments_lexer": "ipython3",
   "version": "3.10.7"
  },
  "orig_nbformat": 4,
  "vscode": {
   "interpreter": {
    "hash": "d3e10ef16274dd72e574b8fa73b58450b957d8421a2901baded3cca26fcf5dda"
   }
  }
 },
 "nbformat": 4,
 "nbformat_minor": 2
}
