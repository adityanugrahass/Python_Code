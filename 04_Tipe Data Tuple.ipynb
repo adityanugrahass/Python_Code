{
 "cells": [
  {
   "cell_type": "markdown",
   "metadata": {},
   "source": [
    "### ========== Tipe Data Tuple =========="
   ]
  },
  {
   "cell_type": "code",
   "execution_count": null,
   "metadata": {},
   "outputs": [],
   "source": [
    "# Format penulisannya menggunakan kurung kurawal ( ) --> (data1, data2, data3, dst.....)\n",
    "data_tuple = ('Januari', 'Februari', 3, 'April', 5)\n",
    "print(\"Ini adalah contoh tipe data Tuple :\", data_tuple)\n",
    "\n",
    "# Tipe data Tuple bersifat Immutable\n",
    "    # yaitu TIDAK dapat dilakukan perubahan setelah pendeklarasian\n",
    "data_tuple = ('Januari', 'Februari', 3, 'April', 5)\n",
    "data_tuple[4] = 'Mei' # ini akan menghasilkan error\n",
    "\n",
    "print(data_tuple[4]) "
   ]
  },
  {
   "cell_type": "markdown",
   "metadata": {},
   "source": [
    "### Tuple Data Manipulation"
   ]
  },
  {
   "cell_type": "markdown",
   "metadata": {},
   "source": [
    "##### Tidak seperti tipe data List, tipe data Tuple hanya memiliki sedikit bentuk manipulasi. Hal ini dikarenakan sifatnya yang Immutable"
   ]
  },
  {
   "cell_type": "code",
   "execution_count": null,
   "metadata": {},
   "outputs": [],
   "source": [
    "# menghitung jumlah kemunculan suatu elemen --> .count()\n",
    "player_list = ('Benny', 'Clay', 'Stixx', 'Benny', 'Stixx', 'Benny', 'Clay', 'Clay', 'Benny')\n",
    "benny_count = player_list.count('Benny')\n",
    "clay_count = player_list.count('Clay')\n",
    "print(f\"\\nBenny count:{benny_count}\")\n",
    "print(f\"Clay count:{clay_count}\\n\")\n"
   ]
  }
 ],
 "metadata": {
  "kernelspec": {
   "display_name": "Python 3.10.7 64-bit",
   "language": "python",
   "name": "python3"
  },
  "language_info": {
   "codemirror_mode": {
    "name": "ipython",
    "version": 3
   },
   "file_extension": ".py",
   "mimetype": "text/x-python",
   "name": "python",
   "nbconvert_exporter": "python",
   "pygments_lexer": "ipython3",
   "version": "3.10.7"
  },
  "orig_nbformat": 4,
  "vscode": {
   "interpreter": {
    "hash": "d3e10ef16274dd72e574b8fa73b58450b957d8421a2901baded3cca26fcf5dda"
   }
  }
 },
 "nbformat": 4,
 "nbformat_minor": 2
}
