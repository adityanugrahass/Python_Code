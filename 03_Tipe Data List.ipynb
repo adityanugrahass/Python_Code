{
 "cells": [
  {
   "cell_type": "markdown",
   "metadata": {},
   "source": [
    "### ========== Tipe Data List =========="
   ]
  },
  {
   "cell_type": "code",
   "execution_count": null,
   "metadata": {},
   "outputs": [],
   "source": [
    "# Format penulisannya menggunakan kurung siku [ ] --> [data1, data2, data3, dst.....]\n",
    "data_list = [5, 65, 2, 74, 'Januari']\n",
    "print(\"Ini adalah contoh tipe data List :\", data_list)\n",
    "\n",
    "# Tipe data List bersifat Mutable\n",
    "    # yaitu dapat dilakukan perubahan setelah pendeklarasian\n",
    "    # dengan cara memasukkan indeks elemennya dan mendeklarasikan value baru\n",
    "data_list = [5, 65, 2, 74, 'Januari']\n",
    "data_list[2] = 'Dua Puluh'\n",
    "data_list[4] = 'Februari'\n",
    "\n",
    "print(data_list[2]) # menghasilkan output Dua Puluh\n",
    "print(data_list[4]) # menghasilkan output Februari\n",
    "print(\"Ini adalah contoh tipe data List :\", data_list)"
   ]
  },
  {
   "cell_type": "markdown",
   "metadata": {},
   "source": [
    "#### List Indexing Data"
   ]
  },
  {
   "cell_type": "code",
   "execution_count": null,
   "metadata": {},
   "outputs": [],
   "source": [
    "# Indexing digunakan untuk mengetahui letak elemen dalam sebuah deretan data dengan menggunakan print(variable_name[index]).\n",
    "\n",
    "# mengambil elemen dari depan, indeks dimulai dari 0\n",
    "data_1 = ('Januari', 'Februari', 3, 'April', 5)\n",
    "print(data_1[2])\n",
    "print(data_1[3])\n",
    "\n",
    "# mengambil elemen dari belakang, indeks dimulai dari -1\n",
    "data_2 = ['Senin', 'Selasa', 'Rabu', 'Kamis', 'Jum''at', 'Sabtu', 'Minggu']\n",
    "print(data_2[-1])\n",
    "print(data_2[-4])\n",
    "\n",
    "# mengambil elemen berdasarkan rentang indeks\n",
    "data_3 = ('DW', 'Sonor', 'Tama', 'Mapex', 'Cannopus', 'Sakae')\n",
    "print(data_3[:3])\n",
    "print(data_3[4:])\n",
    "print(data_3[2:4]) \n",
    "\n",
    "# mengambil info jumlah data\n",
    "panjang_data = len(data_1)\n",
    "print(f\"Panjang data_1 adalah {panjang_data}\")\n",
    "\n",
    "panjang_data = len(data_2)\n",
    "print(f\"Panjang data_2 adalah {panjang_data}\")"
   ]
  },
  {
   "cell_type": "markdown",
   "metadata": {},
   "source": [
    "#### List Merging Data"
   ]
  },
  {
   "cell_type": "code",
   "execution_count": null,
   "metadata": {},
   "outputs": [],
   "source": [
    "# Tipe data List\n",
    "data_4 = ['Rockwell', 'GnL', 'Fender', 'Squier', 'Ibanez', 'Musicman', 'Prince']\n",
    "data_5 = ['RichBuckher', 'Edwards', 'Yamaha', 'Gretsch', 'Cort', 'OLP', 'Schecter']\n",
    "list_bass = data_4 + data_5\n",
    "print(\"List bass :\\n\", list_bass)\n",
    "\n",
    "# Tipe data Tuple\n",
    "data_6 = ('Fender', 'Cort', 'Yamaha', 'PRS')\n",
    "data_7 = ('Gibson', 'Takamine', 'Squier', 'Ibanez')\n",
    "data_8 = ('Shur', 'Taylor', 'Martin', 'Epiphone')\n",
    "list_guitar = data_6 + data_7 + data_8\n",
    "print(\"\\nList guitar :\\n\", list_guitar)"
   ]
  },
  {
   "cell_type": "markdown",
   "metadata": {},
   "source": [
    "### List Data Manipulation  "
   ]
  },
  {
   "cell_type": "code",
   "execution_count": null,
   "metadata": {},
   "outputs": [],
   "source": [
    "# menambah data menggunakan indexing\n",
    "# data.insert(indexing, data yang ingin ditambah)\n",
    "data_1 = ['Januari', 'Februari', 3, 'April', 5]\n",
    "data_1.insert(5,\"Juni\") \n",
    "print(f\"Menggunakan indexing : \\n{data_1}\")\n",
    "\n",
    "# menambah data sebagai elemen terakhir --> .append()\n",
    "data_6 = ['Fender', 'Cort', 'Yamaha', 'PRS']\n",
    "data_6.append('Abasi')\n",
    "print(f\"\\nMenggunakan .append() : \\n{data_6}\")\n",
    "\n",
    "# menghapus seluruh elemen data --> .clear()\n",
    "data_5 = ['RichBuckher', 'Edwards', 'Yamaha', 'Gretsch', 'Cort', 'OLP', 'Schecter']\n",
    "data_5.clear()\n",
    "print(f\"\\nMenghapus list data :\\n{data_5}\")\n",
    "\n",
    "# mengcopy setiap elemen data --> .copy()\n",
    "list_drum1 = ['DW', 'Sonor', 'Tama', 'Mapex', 'Cannopus', 'Sakae']\n",
    "list_drum2 = list_drum1.copy()\n",
    "list_drum2.append('Yamaha')\n",
    "print(f\"\\nList data asli :\\n{list_drum1}\")\n",
    "print(f\"\\nList data copy :\\n{list_drum2}\")\n",
    "\n",
    "# menghitung jumlah kemunculan suatu elemen --> .count()\n",
    "player_list = ['Benny', 'Clay', 'Stixx', 'Benny', 'Stixx', 'Benny', 'Clay', 'Clay', 'Benny']\n",
    "benny_count = player_list.count('Benny')\n",
    "clay_count = player_list.count('Clay')\n",
    "print(f\"\\nBenny count:{benny_count}\")\n",
    "print(f\"Clay count:{clay_count}\\n\")\n",
    "\n",
    "# menggabungkan data tanpa menggunakan operator + --> .extend()\n",
    "data_7 = ['Gibson', 'Takamine', 'Squier', 'Ibanez']\n",
    "data_8 = ['Shur', 'Taylor', 'Martin', 'Epiphone']\n",
    "data_7.extend(data_8)\n",
    "print(f\"List guitar:\\n{data_7}\\n\")\n",
    "\n",
    "# menghapus elemen data tertentu --> .pop()\n",
    "data_3 = ['DW', 'Sonor', 'Tama', 'Mapex', 'Cannopus', 'Sakae']\n",
    "data_3.pop(3)\n",
    "print(data_3, '\\n')\n",
    "\n",
    "# menghapus elemen data dengan menentukkan datanya --> .remove()\n",
    "data_6 = ['Fender', 'Cort', 'Yamaha', 'PRS']\n",
    "data_6.remove('Cort')\n",
    "print(data_6, '\\n')\n",
    "\n",
    "# membalik urutan elemen data --> .reverse()\n",
    "data_2 = ['Senin', 'Selasa', 'Rabu', 'Kamis', 'Jum''at', 'Sabtu', 'Minggu']\n",
    "data_2.reverse()\n",
    "print(data_2, '\\n')\n",
    "\n",
    "# mengurutkan elemen data secara ASC atau DESC --> .sort()\n",
    "player_list = ['Benny', 'Luke', 'Clay', 'Stixx', 'Alex', 'Thomas']\n",
    "player_list.sort() # Ascending (ASC)\n",
    "print(player_list)\n",
    "\n",
    "player_list.sort(reverse=True) # Descending (DESC)\n",
    "print(player_list)"
   ]
  }
 ],
 "metadata": {
  "kernelspec": {
   "display_name": "Python 3.10.7 64-bit",
   "language": "python",
   "name": "python3"
  },
  "language_info": {
   "codemirror_mode": {
    "name": "ipython",
    "version": 3
   },
   "file_extension": ".py",
   "mimetype": "text/x-python",
   "name": "python",
   "nbconvert_exporter": "python",
   "pygments_lexer": "ipython3",
   "version": "3.10.7"
  },
  "orig_nbformat": 4,
  "vscode": {
   "interpreter": {
    "hash": "d3e10ef16274dd72e574b8fa73b58450b957d8421a2901baded3cca26fcf5dda"
   }
  }
 },
 "nbformat": 4,
 "nbformat_minor": 2
}
