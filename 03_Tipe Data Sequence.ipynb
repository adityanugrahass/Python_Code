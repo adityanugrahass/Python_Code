{
 "cells": [
  {
   "cell_type": "markdown",
   "metadata": {},
   "source": [
    "### ========== Tipe Data Sequence =========="
   ]
  },
  {
   "cell_type": "markdown",
   "metadata": {},
   "source": [
    "##### Tipe data ini digunakan untuk menampung data dalam jumlah yang banyak. Antar data dipisahkan oleh tanda koma (,)\n"
   ]
  },
  {
   "cell_type": "markdown",
   "metadata": {},
   "source": [
    "#### a. List"
   ]
  },
  {
   "cell_type": "markdown",
   "metadata": {},
   "source": [
    "##### Format penulisannya --> [data1, data2, data3, dst.....]"
   ]
  },
  {
   "cell_type": "code",
   "execution_count": 1,
   "metadata": {},
   "outputs": [
    {
     "name": "stdout",
     "output_type": "stream",
     "text": [
      "Ini adalah contoh tipe data List : [5, 65, 2, 74, 'Januari']\n",
      "2\n",
      "65\n",
      "Dua Puluh\n",
      "Februari\n",
      "Ini adalah contoh tipe data List : [5, 65, 'Dua Puluh', 74, 'Februari']\n"
     ]
    }
   ],
   "source": [
    "data_list = [5, 65, 2, 74, 'Januari']\n",
    "print(\"Ini adalah contoh tipe data List :\", data_list)\n",
    "\n",
    "# Setiap value didalam List memiliki indeks yang dimulai dari angka 0\n",
    "    # 5 --> indeks ke 0\n",
    "    # 65 --> indeks ke 1\n",
    "    # 2 --> indeks ke 2\n",
    "    # 74 --> indeks ke 3\n",
    "    # Januari --> indeks 4\n",
    "\n",
    "# Untuk mengakses setiap value dalam sebuah List menggunakan indexing\n",
    "print(data_list[2]) # menghasilkan output 2\n",
    "print(data_list[1]) # menghasilkan output 65\n",
    "\n",
    "# Tipe data List bersifat Mutable\n",
    "    # yaitu dapat dilakukan perubahan setelah pendeklarasian\n",
    "    # dengan cara memasukkan indeks value dan mendeklarasikan value baru\n",
    "data_list = [5, 65, 2, 74, 'Januari']\n",
    "data_list[2] = 'Dua Puluh'\n",
    "data_list[4] = 'Februari'\n",
    "\n",
    "print(data_list[2]) # menghasilkan output Dua Puluh\n",
    "print(data_list[4]) # menghasilkan output Februari\n",
    "print(\"Ini adalah contoh tipe data List :\", data_list)"
   ]
  },
  {
   "cell_type": "markdown",
   "metadata": {},
   "source": [
    "#### b. Tuple"
   ]
  },
  {
   "cell_type": "markdown",
   "metadata": {},
   "source": [
    "##### Format penulisannya --> (data1, data2, data3, dst.....)"
   ]
  },
  {
   "cell_type": "code",
   "execution_count": 4,
   "metadata": {},
   "outputs": [
    {
     "name": "stdout",
     "output_type": "stream",
     "text": [
      "Ini adalah contoh tipe data Tuple : ('Januari', 'Februari', 3, 'April', 5)\n",
      "April\n",
      "5\n"
     ]
    },
    {
     "ename": "TypeError",
     "evalue": "'tuple' object does not support item assignment",
     "output_type": "error",
     "traceback": [
      "\u001b[1;31m---------------------------------------------------------------------------\u001b[0m",
      "\u001b[1;31mTypeError\u001b[0m                                 Traceback (most recent call last)",
      "Cell \u001b[1;32mIn [4], line 11\u001b[0m\n\u001b[0;32m      8\u001b[0m \u001b[39m# Tipe data Tuple bersifat Immutable\u001b[39;00m\n\u001b[0;32m      9\u001b[0m     \u001b[39m# yaitu TIDAK dapat dilakukan perubahan setelah pendeklarasian\u001b[39;00m\n\u001b[0;32m     10\u001b[0m data_tuple \u001b[39m=\u001b[39m (\u001b[39m'\u001b[39m\u001b[39mJanuari\u001b[39m\u001b[39m'\u001b[39m, \u001b[39m'\u001b[39m\u001b[39mFebruari\u001b[39m\u001b[39m'\u001b[39m, \u001b[39m3\u001b[39m, \u001b[39m'\u001b[39m\u001b[39mApril\u001b[39m\u001b[39m'\u001b[39m, \u001b[39m5\u001b[39m)\n\u001b[1;32m---> 11\u001b[0m data_tuple[\u001b[39m4\u001b[39;49m] \u001b[39m=\u001b[39m \u001b[39m'\u001b[39m\u001b[39mMei\u001b[39m\u001b[39m'\u001b[39m\n\u001b[0;32m     13\u001b[0m \u001b[39mprint\u001b[39m(data_tuple[\u001b[39m4\u001b[39m])\n",
      "\u001b[1;31mTypeError\u001b[0m: 'tuple' object does not support item assignment"
     ]
    }
   ],
   "source": [
    "data_tuple = ('Januari', 'Februari', 3, 'April', 5)\n",
    "print(\"Ini adalah contoh tipe data Tuple :\", data_tuple)\n",
    "\n",
    "# untuk mengakses setiap value dalam sebuah Tuple menggunakan indexing sama seperti tipe data List\n",
    "print(data_tuple[3]) # menghasilkan output April\n",
    "print(data_tuple[4]) # menghasilkan output 5\n",
    "\n",
    "# Tipe data Tuple bersifat Immutable\n",
    "    # yaitu TIDAK dapat dilakukan perubahan setelah pendeklarasian\n",
    "data_tuple = ('Januari', 'Februari', 3, 'April', 5)\n",
    "data_tuple[4] = 'Mei'\n",
    "\n",
    "print(data_tuple[4]) # ini akan menghasilkan error"
   ]
  }
 ],
 "metadata": {
  "kernelspec": {
   "display_name": "Python 3.10.7 64-bit",
   "language": "python",
   "name": "python3"
  },
  "language_info": {
   "codemirror_mode": {
    "name": "ipython",
    "version": 3
   },
   "file_extension": ".py",
   "mimetype": "text/x-python",
   "name": "python",
   "nbconvert_exporter": "python",
   "pygments_lexer": "ipython3",
   "version": "3.10.7"
  },
  "orig_nbformat": 4,
  "vscode": {
   "interpreter": {
    "hash": "d3e10ef16274dd72e574b8fa73b58450b957d8421a2901baded3cca26fcf5dda"
   }
  }
 },
 "nbformat": 4,
 "nbformat_minor": 2
}
