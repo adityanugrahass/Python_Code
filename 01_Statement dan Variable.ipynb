{
 "cells": [
  {
   "cell_type": "code",
   "execution_count": null,
   "metadata": {},
   "outputs": [],
   "source": [
    "# Statement dan Variables\n",
    "\n",
    "# Statement adalah sebuah instruksi yang ditulis untuk dijalankan atau dideklarasikan\n",
    "    # Contoh\n",
    "print(\"Hello World\")\n",
    "print(\"Ini adalah salah satu contoh statement\")\n",
    "\n",
    "    # penjelasan\n",
    "    # print adalah salah satu contoh statement untuk menampilkan value kedalam output\n",
    "\n",
    "# Variable adalah tempat atau lokasi untuk kita dapat menyimpan sebuah value berupa data apapun baik angka maupun kalimat atau yang lainnya.\n",
    "    # Contoh\n",
    "angka_genap = 10\n",
    "angka_ganjil = 13\n",
    "\n",
    "# Ada beberapa aturan dalam menuliskan variable\n",
    "    # tidak boleh ada spasi, spasi diganti dengan underscore\n",
    "    # nama depan tidak boleh menggunakan angka\n",
    "data_angka = 27\n",
    "juta10 = 10000000\n",
    "bilanganPrima = 'contoh bilangan prima adalah 11, 13, 17, 19'\n",
    "\n",
    "    # penjelasan\n",
    "    # juta10 --> variable\n",
    "    # 10000000 --> value\n",
    "\n"
   ]
  }
 ],
 "metadata": {
  "kernelspec": {
   "display_name": "Python 3.10.7 64-bit",
   "language": "python",
   "name": "python3"
  },
  "language_info": {
   "name": "python",
   "version": "3.10.7"
  },
  "orig_nbformat": 4,
  "vscode": {
   "interpreter": {
    "hash": "d3e10ef16274dd72e574b8fa73b58450b957d8421a2901baded3cca26fcf5dda"
   }
  }
 },
 "nbformat": 4,
 "nbformat_minor": 2
}
