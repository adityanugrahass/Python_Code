{
 "cells": [
  {
   "cell_type": "markdown",
   "metadata": {},
   "source": [
    "### ========== Statement dan Variables =========="
   ]
  },
  {
   "cell_type": "markdown",
   "metadata": {},
   "source": [
    "#### a. Statement"
   ]
  },
  {
   "cell_type": "code",
   "execution_count": 1,
   "metadata": {},
   "outputs": [
    {
     "name": "stdout",
     "output_type": "stream",
     "text": [
      "Hello World\n",
      "Ini adalah salah satu contoh statement\n"
     ]
    }
   ],
   "source": [
    "# Sebuah instruksi yang ditulis untuk dijalankan atau dideklarasikan\n",
    "    # Contoh\n",
    "print(\"Hello World\")\n",
    "print(\"Ini adalah salah satu contoh statement\")\n",
    "\n",
    "    # penjelasan\n",
    "    # print adalah salah satu contoh statement untuk menampilkan value kedalam output\n"
   ]
  },
  {
   "cell_type": "markdown",
   "metadata": {},
   "source": [
    "#### b. Variable"
   ]
  },
  {
   "cell_type": "code",
   "execution_count": null,
   "metadata": {},
   "outputs": [],
   "source": [
    "# Tempat atau lokasi untuk kita dapat menyimpan sebuah value berupa data apapun baik angka maupun kalimat atau yang lainnya.\n",
    "    # Contoh\n",
    "angka_genap = 10\n",
    "angka_ganjil = 13\n",
    "\n",
    "# Ada beberapa aturan dalam menuliskan variable\n",
    "    # 1. Tidak boleh ada spasi, spasi diganti dengan underscore\n",
    "    # 2. Nama depan tidak boleh menggunakan angka\n",
    "data_angka = 27\n",
    "juta10 = 10000000\n",
    "bilanganPrima = 'contoh bilangan prima adalah 11, 13, 17, 19'\n",
    "\n",
    "    # penjelasan\n",
    "    # juta10 --> variable\n",
    "    # 10000000 --> value"
   ]
  }
 ],
 "metadata": {
  "kernelspec": {
   "display_name": "Python 3.10.7 64-bit",
   "language": "python",
   "name": "python3"
  },
  "language_info": {
   "codemirror_mode": {
    "name": "ipython",
    "version": 3
   },
   "file_extension": ".py",
   "mimetype": "text/x-python",
   "name": "python",
   "nbconvert_exporter": "python",
   "pygments_lexer": "ipython3",
   "version": "3.10.7"
  },
  "orig_nbformat": 4,
  "vscode": {
   "interpreter": {
    "hash": "d3e10ef16274dd72e574b8fa73b58450b957d8421a2901baded3cca26fcf5dda"
   }
  }
 },
 "nbformat": 4,
 "nbformat_minor": 2
}
