{
 "cells": [
  {
   "cell_type": "markdown",
   "metadata": {},
   "source": [
    "### ========== Tipe Data Set =========="
   ]
  },
  {
   "cell_type": "code",
   "execution_count": null,
   "metadata": {},
   "outputs": [],
   "source": [
    "# Pada tipe data Set tidak diperbolehkan adanya duplikasi data\n",
    "\n",
    "# Set\n",
    "# Format penulisannya menggunakan kurung kurawal { } --> {data1, data2, data3, dst.....}\n",
    "data_set = {'Alex', 'John', 'Ruby', 'Fox', 'Steve', 'Fox'}\n",
    "print(data_set)\n",
    "\n",
    "# Tipe data Set bersifat Mutable sama seperti Tipe data List\n",
    "\n",
    "# Frozenset\n",
    "# Format penulisannya menggunakan kurung biasa dan kurung kurawal ({ }) --> ({data1, data2, data3, dst.....})\n",
    "data_frozenset = ({'Alex', 'John', 'Ruby', 'Fox', 'Steve', 'Fox'})\n",
    "print(data_frozenset)\n",
    "\n",
    "# Tipe data Set bersifat Immutable sama seperti Tipe data Tuple"
   ]
  },
  {
   "cell_type": "markdown",
   "metadata": {},
   "source": [
    "### Set Data Manipulation - part 1"
   ]
  },
  {
   "cell_type": "code",
   "execution_count": null,
   "metadata": {},
   "outputs": [],
   "source": [
    "# menambahkan elemen data ke dalam set --> .add()\n",
    "drum_list = {'DW', 'Sonor', 'Tama', 'Mapex', 'Cannopus', 'Sakae'}\n",
    "drum_list.add('Yamaha')\n",
    "print(f\"Drum list: {drum_list}\\n\")\n",
    "\n",
    "# menghapus seluruh elemen data --> .clear()\n",
    "data_6 = {'Fender', 'Cort', 'Yamaha', 'PRS'}\n",
    "data_6.clear()\n",
    "print(f\"Menghapus set data: {data_6}\\n\")\n",
    "\n",
    "# mengcopy setiap elemen data --> .copy()\n",
    "guitar_list1 = {'Gibson', 'Takamine', 'Squier', 'Ibanez'}\n",
    "guitar_list2 = guitar_list1.copy()\n",
    "guitar_list2.add('PRS')\n",
    "print(f\"\\nList data asli :\\n{guitar_list1}\")\n",
    "print(f\"\\nList data copy :\\n{guitar_list2}\")\n",
    "\n",
    "# menambahkan elemen didalam set dengan set lain --> .update()\n",
    "data_7 = {'Gibson', 'Takamine', 'Squier', 'Ibanez'}\n",
    "data_8 = {'Shur', 'Taylor', 'Martin', 'Epiphone'}\n",
    "data_7.update(data_8)\n",
    "print(f\"List guitar: {data_7}\\n\")\n",
    "\n",
    "# menghapus elemen data secara acak --> .pop()\n",
    "data_bass1 = {'RichBuckher', 'Edwards', 'Yamaha', 'Gretsch', 'Cort'}\n",
    "data_bass2 = data_bass1.pop()\n",
    "print(data_bass1, '\\n')\n",
    "print(data_bass2, '\\n')\n",
    "\n",
    "# menghapus elemen data dengan menentukkan datanya --> .remove()\n",
    "data_4 = ['Rockwell', 'GnL', 'Fender', 'Squier', 'Ibanez', 'Musicman', 'Prince']\n",
    "data_4.remove('Prince')\n",
    "print(data_4)\n"
   ]
  },
  {
   "cell_type": "markdown",
   "metadata": {},
   "source": [
    "### Set Data Manipulation - part 2"
   ]
  },
  {
   "cell_type": "code",
   "execution_count": null,
   "metadata": {},
   "outputs": [],
   "source": [
    "# .union()\n",
    "# menggabungkan elemen dari 2 set data (tanpa duplikasi data jika ada) dengan memasukkannya ke dalam variable baru\n",
    "menu1 = {'Ayam Kremes', 'Ikan Bakar', 'Bebek Goreng'}\n",
    "menu2 = {'Es Teh', 'Es Jeruk', 'Air Es'}\n",
    "list_menu = menu1.union(menu2)\n",
    "print(f\"List menu:\\n{list_menu}\\n\")\n",
    "\n",
    "# .isdisjoint()\n",
    "# menggabungkan elemen dari beberapa set data dan mengembalikan valuenya\n",
    "# jika terdapat duplikasi data --> False\n",
    "# jika TIDAK terdapat duplikasi data --> True\n",
    "cymbalset1 = {'Meinl', 'Paiste', 'Zildjian'}\n",
    "cymbalset2 = {'Sabian', 'Stagg', 'Nebulae'}\n",
    "cymbalset3 = {'Murat', 'Meinl', 'Orion'}\n",
    "\n",
    "disjoint1 = cymbalset1.isdisjoint(cymbalset3)\n",
    "print(f\"Hasil dari disjoint1 adalah: {disjoint1}\")\n",
    "\n",
    "disjoint2 = cymbalset2.isdisjoint(cymbalset3)\n",
    "print(f\"Hasil dari disjoint2 adalah: {disjoint2}\\n\")\n",
    "\n",
    "# .issubset()\n",
    "# menggabungkan elemen dari beberapa set dan mengembalikan valuenya\n",
    "# jika sebagian elemen dalam sebuah set terdapat pada set lain --> True\n",
    "# jika sebagian elemen dalam sebuah set TIDAK terdapat pada set lain --> False\n",
    "Meinl = {'HiHat', 'Stack', 'Splash'}\n",
    "Paiste = {'HiHat', 'Crash', 'China'}\n",
    "Stagg = {'HiHat','Ride', 'Bell', 'Splash', 'Stack'}\n",
    "\n",
    "subset1 = Meinl.issubset(Stagg)\n",
    "print(f\"Hasil dari subset1 adalah: {subset1}\")\n",
    "\n",
    "subset2 = Paiste.issubset(Stagg)\n",
    "print(f\"Hasil dari subset2 adalah: {subset2}\\n\")\n",
    "\n",
    "# .issuperset\n",
    "# menggabungkan elemen dari beberapa set dan mengembalikan valuenya\n",
    "# jika seluruh elemen dalam sebuah set mengandung elemen dari set lain --> True\n",
    "# jika seluruh elemen dalam sebuah set TIDAK mengandung elemen dari set lain --> False\n",
    "cafe1 = {'Coffe', 'FrenchFries', 'Burger', 'RollCake', 'Juice', 'Latte'}\n",
    "cafe2 = {'Burger', 'Steak', 'Smoothies'}\n",
    "cafe3 = {'Coffe', 'Latte', 'Burger', 'FrenchFries'}\n",
    "\n",
    "superset1 = cafe2.issuperset(cafe1)\n",
    "print(f\"Hasil dari superset1 adalah: {superset1}\")\n",
    "\n",
    "superset2 = cafe1.issuperset(cafe3)\n",
    "print(f\"Hasil dari superset2 adalah: {superset2}\\n\")\n",
    "\n",
    "# .intersection()\n",
    "# mengembalikan elemen data yang sama dalam beberapa set atau irisan\n",
    "Meinl = {'HiHat', 'Stack', 'China'}\n",
    "Stagg = {'HiHat','Ride', 'Bell', 'Splash', 'Stack'}\n",
    "\n",
    "intersect = Meinl.intersection(Stagg)\n",
    "print(f\"Hasil dari intersect adalah: {intersect}\\n\")\n",
    "\n",
    "# .difference()\n",
    "# mengembalikan elemen data yang TIDAK sama dalam beberapa set atau selisih\n",
    "Meinl = {'HiHat', 'Crash', 'Stack', 'China'}\n",
    "Stagg = {'HiHat','Ride', 'Bell', 'Splash', 'Stack'}\n",
    "\n",
    "differ1 = Meinl.difference(Stagg)\n",
    "print(f\"Hasil dari differ1 adalah: {differ1}\\n\")\n",
    "\n",
    "differ2 = Stagg.difference(Meinl)\n",
    "print(f\"Hasil dari differ2 adalah: {differ2}\\n\")\n",
    "\n",
    "# .symetric_difference()\n",
    "# mengembalikan elemen data yang TIDAK sama dalam beberapa set\n",
    "# kemudian hasil tersebut digabungkan menjadi satu dan dikeluarkan ke output\n",
    "Meinl = {'HiHat', 'Crash', 'Stack', 'China'}\n",
    "Stagg = {'HiHat','Ride', 'Bell', 'Splash', 'Stack'}\n",
    "\n",
    "sym_diff = Meinl.symmetric_difference(Stagg)\n",
    "print(f\"Hasil dari sym_diff adalah: {sym_diff}\\n\")"
   ]
  }
 ],
 "metadata": {
  "kernelspec": {
   "display_name": "Python 3.10.7 64-bit",
   "language": "python",
   "name": "python3"
  },
  "language_info": {
   "codemirror_mode": {
    "name": "ipython",
    "version": 3
   },
   "file_extension": ".py",
   "mimetype": "text/x-python",
   "name": "python",
   "nbconvert_exporter": "python",
   "pygments_lexer": "ipython3",
   "version": "3.10.7"
  },
  "orig_nbformat": 4,
  "vscode": {
   "interpreter": {
    "hash": "d3e10ef16274dd72e574b8fa73b58450b957d8421a2901baded3cca26fcf5dda"
   }
  }
 },
 "nbformat": 4,
 "nbformat_minor": 2
}
