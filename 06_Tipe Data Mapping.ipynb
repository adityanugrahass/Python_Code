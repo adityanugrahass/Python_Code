{
 "cells": [
  {
   "cell_type": "markdown",
   "metadata": {},
   "source": [
    "### ========== Tipe Data Mapping =========="
   ]
  },
  {
   "cell_type": "code",
   "execution_count": null,
   "metadata": {},
   "outputs": [],
   "source": [
    "# Tipe data ini sering kita kenal dengan istilah Dictionary. \n",
    "# Format penulisannya menggunakan kurung kurawal { }. \n",
    "# Value didalamnya berisikan kunci dan nilai --> {'kunci':'nilai'}.\n",
    "\n",
    "staff = {'Nama':'Aditya', 'Posisi':'Data Analyst'}\n",
    "print(staff)\n",
    "print(staff['Nama'])\n",
    "print(staff['Posisi'])\n",
    "\n",
    "# Nama --> Kunci\n",
    "# Aditya --> Nilai"
   ]
  },
  {
   "cell_type": "markdown",
   "metadata": {},
   "source": [
    "#### Mapping Data Manipulation"
   ]
  },
  {
   "cell_type": "code",
   "execution_count": 14,
   "metadata": {},
   "outputs": [
    {
     "name": "stdout",
     "output_type": "stream",
     "text": [
      "Menghapus dictionary data {}\n",
      "\n",
      "List data asli :\n",
      "{'Name': 'Ruby', 'Position': 'Data Analyst', 'Address': 'USA'}\n",
      "\n",
      "List data copy :\n",
      "{'Name': 'Beatrix', 'Position': 'Data Analyst', 'Address': 'California'}\n",
      "\n",
      "Keys dalam dictionary data : ['Name', 'Position', 'Address']\n",
      "\n",
      "Values dalam dictionary data : ['Ruby', 'Data Analyst', 'USA']'\n",
      "\n",
      "showInfo : {'Name': 'Ruby', 'Position': 'Data Analyst', 'Address': 'USA', 'Company': 'Amazing', 'Tools': ['SQL', 'Python', 'Tableau']}\n"
     ]
    }
   ],
   "source": [
    "# menghapus seluruh elemen data --> .clear()\n",
    "employee = {'Name':'Ruby','Position':'Data Analyst','Address':'USA'}\n",
    "employee.clear()\n",
    "print(f\"Menghapus dictionary data {employee}\")\n",
    "\n",
    "# mengcopy setiap elemen data --> .copy()\n",
    "employee = {'Name':'Ruby','Position':'Data Analyst','Address':'USA'}\n",
    "employee2 = employee.copy()\n",
    "    # menambah elemen baru\n",
    "employee2['Name'] = 'Beatrix'\n",
    "employee2['Address'] = 'California'\n",
    "\n",
    "print(f\"\\nList data asli :\\n{employee}\")\n",
    "print(f\"\\nList data copy :\\n{employee2}\\n\")\n",
    "\n",
    "# mengambil key atau kunci dari dictionary dataset --> .keys()\n",
    "employee = {'Name':'Ruby','Position':'Data Analyst','Address':'USA'}\n",
    "dict_keys = list(employee.keys())\n",
    "print(f\"Keys dalam dictionary data : {dict_keys}\\n\")\n",
    "\n",
    "# mengambil value atau nilai dari dictionary dataset --> .values()\n",
    "employee = {'Name':'Ruby','Position':'Data Analyst','Address':'USA'}\n",
    "dict_values = list(employee.values())\n",
    "print(f\"Values dalam dictionary data : {dict_values}'\\n\")\n",
    "\n",
    "# menambahkan key dan value baru kedalam dictionary datase --> .update()\n",
    "employee = {'Name':'Ruby','Position':'Data Analyst','Address':'USA'}\n",
    "employee.update({'Company':'Amazing','Tools':['SQL','Python','Tableau']})\n",
    "print(f\"showInfo : {employee}\")\n",
    "\n",
    "\n",
    "\n",
    "\n",
    "\n"
   ]
  }
 ],
 "metadata": {
  "kernelspec": {
   "display_name": "Python 3.10.7 64-bit",
   "language": "python",
   "name": "python3"
  },
  "language_info": {
   "codemirror_mode": {
    "name": "ipython",
    "version": 3
   },
   "file_extension": ".py",
   "mimetype": "text/x-python",
   "name": "python",
   "nbconvert_exporter": "python",
   "pygments_lexer": "ipython3",
   "version": "3.10.7"
  },
  "orig_nbformat": 4,
  "vscode": {
   "interpreter": {
    "hash": "d3e10ef16274dd72e574b8fa73b58450b957d8421a2901baded3cca26fcf5dda"
   }
  }
 },
 "nbformat": 4,
 "nbformat_minor": 2
}
