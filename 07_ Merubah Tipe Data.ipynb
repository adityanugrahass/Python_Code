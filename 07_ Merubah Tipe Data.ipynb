{
 "cells": [
  {
   "cell_type": "markdown",
   "metadata": {},
   "source": [
    "### ========== Merubah Tipe Data =========="
   ]
  },
  {
   "cell_type": "markdown",
   "metadata": {},
   "source": [
    "#### Boolean"
   ]
  },
  {
   "cell_type": "code",
   "execution_count": 14,
   "metadata": {},
   "outputs": [
    {
     "name": "stdout",
     "output_type": "stream",
     "text": [
      "Tipe Data Boolean\n",
      "Tipe data True = <class 'bool'>\n",
      "Tipe data False = <class 'bool'>\n",
      "\n",
      "1. Merubah ke Tipe Integer\n",
      "Tipe data True = 1 --> <class 'int'>\n",
      "Tipe data False = 0 --> <class 'int'>\n",
      "2. Merubah ke Tipe String\n",
      "Tipe data True = True --> <class 'str'>\n",
      "Tipe data False = False --> <class 'str'>\n",
      "3. Merubah ke Tipe Float\n",
      "Tipe data True = 1.0 --> <class 'float'>\n",
      "Tipe data False = 0.0 --> <class 'float'>\n"
     ]
    }
   ],
   "source": [
    "print(\"Tipe Data Boolean\")\n",
    "logic_1 = True\n",
    "logic_2 = False\n",
    "print(f\"Tipe data {logic_1} = {type(logic_1)}\")\n",
    "print(f\"Tipe data {logic_2} = {type(logic_2)}\\n\")\n",
    "\n",
    "# merubah ke tipe Integer\n",
    "print(\"1. Merubah ke Tipe Integer\")\n",
    "int_type1 = int(logic_1)\n",
    "int_type2 = int(logic_2)\n",
    "print(f\"Tipe data {logic_1} = {int_type1} --> {type(int_type1)}\")\n",
    "print(f\"Tipe data {logic_2} = {int_type2} --> {type(int_type2)}\")\n",
    "\n",
    "# merubah ke tipe String\n",
    "print(\"2. Merubah ke Tipe String\")\n",
    "str_type1 = str(logic_1)\n",
    "str_type2 = str(logic_2)\n",
    "print(f\"Tipe data {logic_1} = {str_type1} --> {type(str_type1)}\")\n",
    "print(f\"Tipe data {logic_2} = {str_type2} --> {type(str_type2)}\")\n",
    "\n",
    "# merubah ke tipe Float\n",
    "print(\"3. Merubah ke Tipe Float\")\n",
    "flt_type1 = float(logic_1)\n",
    "flt_type2 = float(logic_2)\n",
    "print(f\"Tipe data {logic_1} = {flt_type1} --> {type(flt_type1)}\")\n",
    "print(f\"Tipe data {logic_2} = {flt_type2} --> {type(flt_type2)}\")"
   ]
  },
  {
   "cell_type": "markdown",
   "metadata": {},
   "source": [
    "#### Integer"
   ]
  },
  {
   "cell_type": "code",
   "execution_count": 20,
   "metadata": {},
   "outputs": [
    {
     "name": "stdout",
     "output_type": "stream",
     "text": [
      "Tipe Data Integer\n",
      "Tipe data 2022 = <class 'int'>\n",
      "1. Merubah ke Tipe Boolean\n",
      "Tipe data 2022 = True --> <class 'bool'>\n",
      "2. Merubah ke Tipe String\n",
      "Tipe data 2022 = 2022 --> <class 'str'>\n",
      "3. Merubah ke Tipe Float\n",
      "Tipe data 2022 = 2022.0 --> <class 'float'>\n"
     ]
    }
   ],
   "source": [
    "print(\"Tipe Data Integer\")\n",
    "bilangan_bulat = 2022\n",
    "print(f\"Tipe data {bilangan_bulat} = {type(bilangan_bulat)}\")\n",
    "\n",
    "# merubah ke tipe Integer\n",
    "print(\"1. Merubah ke Tipe Boolean\")\n",
    "bool_type = bool(bilangan_bulat)\n",
    "print(f\"Tipe data {bilangan_bulat} = {bool_type} --> {type(bool_type)}\")\n",
    "\n",
    "# merubah ke tipe String\n",
    "print(\"2. Merubah ke Tipe String\")\n",
    "str_type = str(bilangan_bulat)\n",
    "print(f\"Tipe data {bilangan_bulat} = {str_type} --> {type(str_type)}\")\n",
    "\n",
    "# merubah ke tipe Float\n",
    "print(\"3. Merubah ke Tipe Float\")\n",
    "flt_type = float(bilangan_bulat)\n",
    "print(f\"Tipe data {bilangan_bulat} = {flt_type} --> {type(flt_type)}\")"
   ]
  },
  {
   "cell_type": "markdown",
   "metadata": {},
   "source": [
    "#### Float"
   ]
  },
  {
   "cell_type": "code",
   "execution_count": null,
   "metadata": {},
   "outputs": [
    {
     "name": "stdout",
     "output_type": "stream",
     "text": [
      "Tipe Data Float\n",
      "Tipe data 3.98 = <class 'float'>\n",
      "1. Merubah ke Tipe Boolean\n",
      "Tipe data 3.98 = True --> <class 'bool'>\n",
      "2. Merubah ke Tipe String\n",
      "Tipe data 3.98 = 3.98 --> <class 'str'>\n",
      "3. Merubah ke Tipe Integer\n",
      "Tipe data 3.98 = 3 --> <class 'int'>\n"
     ]
    }
   ],
   "source": [
    "print(\"Tipe Data Float\")\n",
    "bilangan_desimal = 3.98\n",
    "print(f\"Tipe data {bilangan_desimal} = {type(bilangan_desimal)}\")\n",
    "\n",
    "# merubah ke tipe Boolean\n",
    "print(\"1. Merubah ke Tipe Boolean\")\n",
    "bool_type = bool(bilangan_desimal)\n",
    "print(f\"Tipe data {bilangan_desimal} = {bool_type} --> {type(bool_type)}\")\n",
    "\n",
    "# merubah ke tipe String\n",
    "print(\"2. Merubah ke Tipe String\")\n",
    "str_type = str(bilangan_desimal)\n",
    "print(f\"Tipe data {bilangan_desimal} = {str_type} --> {type(str_type)}\")\n",
    "\n",
    "# merubah ke tipe Integer\n",
    "print(\"3. Merubah ke Tipe Integer\")\n",
    "int_type = int(bilangan_desimal)\n",
    "print(f\"Tipe data {bilangan_desimal} = {int_type} --> {type(int_type)}\")"
   ]
  },
  {
   "cell_type": "markdown",
   "metadata": {},
   "source": [
    "#### Text/String"
   ]
  },
  {
   "cell_type": "code",
   "execution_count": 26,
   "metadata": {},
   "outputs": [
    {
     "name": "stdout",
     "output_type": "stream",
     "text": [
      "Tipe Data String\n",
      "Tipe data 20221109 = <class 'str'>\n",
      "1. Merubah ke Tipe Boolean\n",
      "Tipe data 20221109 = True --> <class 'bool'>\n",
      "2. Merubah ke Tipe String\n",
      "Tipe data 20221109 = 20221109.0 --> <class 'float'>\n",
      "3. Merubah ke Tipe Integer\n",
      "Tipe data 20221109 = 20221109 --> <class 'int'>\n"
     ]
    }
   ],
   "source": [
    "print(\"Tipe Data String\")\n",
    "kalimat1 = '20221109'\n",
    "print(f\"Tipe data {kalimat1} = {type(kalimat1)}\")\n",
    "\n",
    "# merubah ke tipe Boolean\n",
    "print(\"1. Merubah ke Tipe Boolean\")\n",
    "bool_type = bool(kalimat1)\n",
    "print(f\"Tipe data {kalimat1} = {bool_type} --> {type(bool_type)}\")\n",
    "\n",
    "# merubah ke tipe Float\n",
    "print(\"2. Merubah ke Tipe Float\")\n",
    "flt_type = float(kalimat1)\n",
    "print(f\"Tipe data {kalimat1} = {flt_type} --> {type(flt_type)}\")\n",
    "\n",
    "# merubah ke tipe Integer\n",
    "print(\"3. Merubah ke Tipe Integer\")\n",
    "int_type = int(kalimat1)\n",
    "print(f\"Tipe data {kalimat1} = {int_type} --> {type(int_type)}\")"
   ]
  }
 ],
 "metadata": {
  "kernelspec": {
   "display_name": "Python 3.10.7 64-bit",
   "language": "python",
   "name": "python3"
  },
  "language_info": {
   "codemirror_mode": {
    "name": "ipython",
    "version": 3
   },
   "file_extension": ".py",
   "mimetype": "text/x-python",
   "name": "python",
   "nbconvert_exporter": "python",
   "pygments_lexer": "ipython3",
   "version": "3.10.7"
  },
  "orig_nbformat": 4,
  "vscode": {
   "interpreter": {
    "hash": "d3e10ef16274dd72e574b8fa73b58450b957d8421a2901baded3cca26fcf5dda"
   }
  }
 },
 "nbformat": 4,
 "nbformat_minor": 2
}
